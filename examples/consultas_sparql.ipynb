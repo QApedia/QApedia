{
 "cells": [
  {
   "cell_type": "markdown",
   "metadata": {},
   "source": [
    "Notebook disponível de forma interativa no [Binder](https://mybinder.org/v2/gh/QApedia/QApedia/master?filepath=examples)."
   ]
  },
  {
   "cell_type": "markdown",
   "metadata": {},
   "source": [
    "# Realizando consultas sparql com o QApedia"
   ]
  },
  {
   "cell_type": "markdown",
   "metadata": {},
   "source": [
    "A partir de um SPARQL Endpoint e uma consulta SPARQL válida, é possível obter o resultado da consulta utilizando o QApedia através da função ``perform_query``. \n",
    "\n",
    "Uma consulta SPARQL geralmente possui as seguintes partes (algumas são opcionais como a definição do dataset e os modificadores da consulta):\n",
    "\n",
    "\n",
    "* **prefix declarations**\n",
    "nomeia uma URI de forma a abreviar\n",
    "```\n",
    "PREFIX foo: <http://example.com/resources/>\n",
    "...\n",
    "```\n",
    "* **dataset definition**\n",
    "Indica os grafos RDFS consultados\n",
    "```\n",
    "FROM ...\n",
    "```\n",
    "* **result clause**\n",
    "Indica a informação a ser retornada da consulta\n",
    "```\n",
    "SELECT ...\n",
    "```\n",
    "* **query pattern**\n",
    "Especifica o que consultar no conjunto de dados\n",
    "```\n",
    "WHERE {\n",
    "    ...\n",
    "}\n",
    "```\n",
    "* **query modifiers**\n",
    " Pode reorganizar os dados da consulta, limitar a quantidade de resultados, reordenar, etc.\n",
    "```\n",
    "ORDER BY ...\n",
    "```\n",
    "\n",
    "No final, a consulta pode possuir o seguinte aspecto.\n",
    "```\n",
    "# prefix declarations\n",
    "PREFIX foo: <http://example.com/resources/>\n",
    "...\n",
    "# dataset definition\n",
    "FROM ...\n",
    "# result clause\n",
    "SELECT ...\n",
    "# query pattern\n",
    "WHERE {\n",
    "    ...\n",
    "}\n",
    "# query modifiers\n",
    "ORDER BY ...\n",
    "```\n",
    "\n",
    "\n",
    "A função ``perform_query`` recebe os seguintes argumentos:\n",
    "\n",
    "* query - Corresponde a consulta SPARQL utilizada, essa consulta deve ser fornecida no formato de uma string.\n",
    "* prefixes - Conjunto de prefixos utilizados  na consulta SPARQL. \n",
    "* endpoint - SPARQL Endpoint onde a busca será realizar.\n",
    "\n",
    "A seguir, é mostrado alguns exemplos de como realizar consultas com o QApedia. "
   ]
  },
  {
   "cell_type": "code",
   "execution_count": 1,
   "metadata": {},
   "outputs": [],
   "source": [
    "# carregar módulo generator\n",
    "from QApedia import generator"
   ]
  },
  {
   "cell_type": "markdown",
   "metadata": {},
   "source": [
    "a) Obter todas as pessoas do arquivo FOAF de Tim Berners-Lee que tenham nomes e endereço de email. Para cada resultado é retornado o URI, o nome e o email de cada pessoa. A consulta pode ser realizada utilizando o [OpenLink's Virtuoso](http://demo.openlinksw.com/sparql).\n",
    "\n",
    "```\n",
    "PREFIX foaf:  <http://xmlns.com/foaf/0.1/>\n",
    "SELECT *\n",
    "WHERE {\n",
    "    ?person foaf:name ?name .\n",
    "    ?person foaf:mbox ?email .\n",
    "}\n",
    "```\n",
    "\n",
    "Para realizar a seguinte busca, você pode passar a consulta acima completa ou dividir em duas partes sendo elas ``prefixos`` e ``sparql``. \n",
    "\n",
    "Por que dividir em duas partes?\n",
    "Caso esteja trabalhando com diversas consultas SPARQLs, a fim de manter o dataset padronizado, pode-se definir um conjunto de prefixos que serão reutilizados nas consultas, evitando o problema do uso de duas denominações diferentes para um mesmo URI. Em http://dbpedia.org/sparql o resource é definido por padrão como ``PREFIX dbr:<http://dbpedia.org/resource/>``, já em http://dbpedia.org/snorql é definido como ``PREFIX :<http://dbpedia.org/resource/>``."
   ]
  },
  {
   "cell_type": "code",
   "execution_count": 2,
   "metadata": {},
   "outputs": [
    {
     "data": {
      "text/plain": [
       "346"
      ]
     },
     "execution_count": 2,
     "metadata": {},
     "output_type": "execute_result"
    }
   ],
   "source": [
    "prefixos = \"PREFIX foaf:  <http://xmlns.com/foaf/0.1/>\"\n",
    "sparql = \"\"\"\n",
    "SELECT *\n",
    "WHERE {\n",
    "    ?person foaf:name ?name .\n",
    "    ?person foaf:mbox ?email .\n",
    "}\n",
    "\"\"\"\n",
    "result = generator.perform_query(sparql, prefixos, endpoint = \"http://demo.openlinksw.com/sparql\")\n",
    "len(result)"
   ]
  },
  {
   "cell_type": "markdown",
   "metadata": {},
   "source": [
    "**Lista dos dez primeiros retornados pela consulta**"
   ]
  },
  {
   "cell_type": "code",
   "execution_count": 3,
   "metadata": {},
   "outputs": [
    {
     "data": {
      "text/plain": [
       "[{'person': Value(uri:'http://www.ils.unc.edu/~janeg/foaf.rdf#me'),\n",
       "  'name': Value(literal:'Jane Greenberg'),\n",
       "  'email': Value(uri:'mailto:janeg@email.unc.edu')},\n",
       " {'person': Value(uri:'http://www.ils.unc.edu/~janeg/foaf.rdf#me'),\n",
       "  'name': Value(literal:'Jane Greenberg'),\n",
       "  'email': Value(uri:'mailto:janeg@email.unc.edu')},\n",
       " {'person': Value(uri:'http://www.ils.unc.edu/~janeg/foaf.rdf#me'),\n",
       "  'name': Value(literal:'Jane Greenberg'),\n",
       "  'email': Value(uri:'mailto:janeg@email.unc.edu')},\n",
       " {'person': Value(uri:'http://www.ils.unc.edu/~janeg/foaf.rdf#me'),\n",
       "  'name': Value(literal:'Jane Greenberg'),\n",
       "  'email': Value(uri:'mailto:janeg@email.unc.edu')},\n",
       " {'person': Value(uri:'http://www.ils.unc.edu/~janeg/foaf.rdf#me'),\n",
       "  'name': Value(literal:'Jane Greenberg'),\n",
       "  'email': Value(uri:'mailto:janeg@email.unc.edu')},\n",
       " {'person': Value(uri:'http://www.ils.unc.edu/~janeg/foaf.rdf#me'),\n",
       "  'name': Value(literal:'Jane Greenberg'),\n",
       "  'email': Value(uri:'mailto:janeg@email.unc.edu')},\n",
       " {'person': Value(uri:'http://www.ils.unc.edu/~janeg/foaf.rdf#me'),\n",
       "  'name': Value(literal:'Jane Greenberg'),\n",
       "  'email': Value(uri:'mailto:janeg@email.unc.edu')},\n",
       " {'person': Value(uri:'http://www.ils.unc.edu/~janeg/foaf.rdf#me'),\n",
       "  'name': Value(literal:'Jane Greenberg'),\n",
       "  'email': Value(uri:'mailto:janeg@email.unc.edu')},\n",
       " {'person': Value(uri:'http://www.ils.unc.edu/~janeg/foaf.rdf#me'),\n",
       "  'name': Value(literal:'Jane Greenberg'),\n",
       "  'email': Value(uri:'mailto:janeg@email.unc.edu')},\n",
       " {'person': Value(uri:'http://dbpedia.org/resource/Knut_Jørgen_Røed_Ødegaard'),\n",
       "  'name': Value(literal:'Knut Jørgen Røed Ødegaard'),\n",
       "  'email': Value(uri:'mailto:knutjo@astro.uio.no')}]"
      ]
     },
     "execution_count": 3,
     "metadata": {},
     "output_type": "execute_result"
    }
   ],
   "source": [
    "result[0:10]"
   ]
  },
  {
   "cell_type": "markdown",
   "metadata": {},
   "source": [
    "b) Usando o endpoint da DBpedia, podemos fazer uma consulta que obtém todos os mangás escritos pelo autor Yoshihiro Togashi. A consulta pode ser realizada utilizando o [DBPedia-specific SPARQL endpoint](http://dbpedia.org/sparql).\n",
    "\n",
    "```\n",
    "SELECT * WHERE {\n",
    "  ?manga a dbo:Manga .\n",
    "  ?manga rdfs:label ?nome .\n",
    "  ?manga dbo:author dbr:Yoshihiro_Togashi .\n",
    "  FILTER(lang(?nome) = 'pt').}\n",
    "\n",
    "```\n",
    "Nessa consulta utilizamos o FILTER para retornar apenas os resultados em português."
   ]
  },
  {
   "cell_type": "code",
   "execution_count": 4,
   "metadata": {},
   "outputs": [
    {
     "data": {
      "text/plain": [
       "[{'manga': Value(uri:'http://dbpedia.org/resource/Level_E'),\n",
       "  'nome': Value(literal:'Level E')},\n",
       " {'manga': Value(uri:'http://dbpedia.org/resource/Yu_Yu_Hakusho'),\n",
       "  'nome': Value(literal:'Yu Yu Hakusho')},\n",
       " {'manga': Value(uri:'http://dbpedia.org/resource/Hunter_×_Hunter'),\n",
       "  'nome': Value(literal:'Hunter × Hunter')}]"
      ]
     },
     "execution_count": 4,
     "metadata": {},
     "output_type": "execute_result"
    }
   ],
   "source": [
    "sparql = \"\"\"\n",
    "SELECT * WHERE {\n",
    "  ?manga a dbo:Manga .\n",
    "  ?manga rdfs:label ?nome .\n",
    "  ?manga dbo:author dbr:Yoshihiro_Togashi .\n",
    "  FILTER(lang(?nome) = 'pt').}\n",
    "\"\"\"\n",
    "result = generator.perform_query(sparql, endpoint = \"http://dbpedia.org/sparql\")\n",
    "result"
   ]
  },
  {
   "cell_type": "markdown",
   "metadata": {},
   "source": [
    "É possível utilizar outras cláusulas de consulta SPARQL como o ASK. A biblioteca retorna verdadeiro ou falso dependendo do resultado da consulta SPARQL.\n",
    "\n",
    "c) Usar consulta SPARQL para verificar se Yoshihiro Togashi é autor de Yu Yu Hakusho. Essa consulta deve retornar verdadeiro, visto que na consulta anterior é um dos títulos retornados."
   ]
  },
  {
   "cell_type": "code",
   "execution_count": 2,
   "metadata": {},
   "outputs": [
    {
     "data": {
      "text/plain": [
       "True"
      ]
     },
     "execution_count": 2,
     "metadata": {},
     "output_type": "execute_result"
    }
   ],
   "source": [
    "sparql = \"\"\"\n",
    "ASK WHERE {\n",
    "  dbr:Yu_Yu_Hakusho dbo:author dbr:Yoshihiro_Togashi .\n",
    "}\n",
    "\"\"\"\n",
    "result = generator.perform_query(sparql, endpoint = \"http://dbpedia.org/sparql\")\n",
    "result"
   ]
  },
  {
   "cell_type": "markdown",
   "metadata": {},
   "source": [
    "c) Usar consulta SPARQL para verificar se Yoshihiro Togashi é autor de Naruto."
   ]
  },
  {
   "cell_type": "code",
   "execution_count": 3,
   "metadata": {},
   "outputs": [
    {
     "data": {
      "text/plain": [
       "False"
      ]
     },
     "execution_count": 3,
     "metadata": {},
     "output_type": "execute_result"
    }
   ],
   "source": [
    "sparql = \"\"\"\n",
    "ASK WHERE {\n",
    "  dbr:Yu_Yu_Hakusho dbo:author dbr:Naruto .\n",
    "}\n",
    "\"\"\"\n",
    "result = generator.perform_query(sparql, endpoint = \"http://dbpedia.org/sparql\")\n",
    "result"
   ]
  }
 ],
 "metadata": {
  "kernelspec": {
   "display_name": "Python 3",
   "language": "python",
   "name": "python3"
  },
  "language_info": {
   "codemirror_mode": {
    "name": "ipython",
    "version": 3
   },
   "file_extension": ".py",
   "mimetype": "text/x-python",
   "name": "python",
   "nbconvert_exporter": "python",
   "pygments_lexer": "ipython3",
   "version": "3.7.3"
  }
 },
 "nbformat": 4,
 "nbformat_minor": 2
}
